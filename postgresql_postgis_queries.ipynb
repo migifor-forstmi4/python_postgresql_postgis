{
 "cells": [
  {
   "cell_type": "markdown",
   "metadata": {},
   "source": [
    "# Python with PostgreSQL & PostGIS\n",
    "\n",
    "<span>Note: Please always run the complete Jupyter Notebook from the beginning, as object names such as 'sql' and 'gdf' are reused in the code cells.</span>"
   ]
  },
  {
   "cell_type": "markdown",
   "metadata": {},
   "source": [
    "## Libraries and Settings"
   ]
  },
  {
   "cell_type": "code",
   "execution_count": 6,
   "metadata": {},
   "outputs": [
    {
     "name": "stdout",
     "output_type": "stream",
     "text": [
      "/workspaces/python_postgresql_postgis\n"
     ]
    }
   ],
   "source": [
    "# Libraries\n",
    "import os\n",
    "import folium\n",
    "import pandas as pd\n",
    "import geopandas as gpd\n",
    "from sqlalchemy import create_engine, text\n",
    "\n",
    "# Ignore warnings\n",
    "import warnings\n",
    "warnings.filterwarnings(\"ignore\")\n",
    "\n",
    "print(os.getcwd())"
   ]
  },
  {
   "cell_type": "markdown",
   "metadata": {},
   "source": [
    "## Create database connection"
   ]
  },
  {
   "cell_type": "code",
   "execution_count": 7,
   "metadata": {},
   "outputs": [
    {
     "name": "stdout",
     "output_type": "stream",
     "text": [
      "Current database: osm_switzerland\n"
     ]
    }
   ],
   "source": [
    "# Set up database connection\n",
    "user = \"pgadmin\"\n",
    "password = \"geheim\"\n",
    "host = \"localhost\"\n",
    "port = \"5432\"\n",
    "database = \"osm_switzerland\"\n",
    "\n",
    "# Create Connection URL\n",
    "db_connection_url = \"postgresql://\" + user + \":\" + password +\\\n",
    "                    \"@\" + host + \":\" + port + \"/\" + database\n",
    "\n",
    "# Create SQLAlchemy Engine\n",
    "engine = create_engine(db_connection_url)\n",
    "\n",
    "# Test database connection\n",
    "try:\n",
    "    with engine.connect() as connection:\n",
    "        result = connection.execute(text(\"SELECT current_database();\"))\n",
    "        db_name = result.scalar()\n",
    "        print(\"Current database:\", db_name)\n",
    "except Exception as e:\n",
    "    print(\"Error connecting to the database:\", e)\n",
    "\n",
    "# Dispose the engine\n",
    "engine.dispose()"
   ]
  },
  {
   "cell_type": "markdown",
   "metadata": {},
   "source": [
    "## List tables in database"
   ]
  },
  {
   "cell_type": "code",
   "execution_count": 8,
   "metadata": {},
   "outputs": [
    {
     "name": "stdout",
     "output_type": "stream",
     "text": [
      "geography_columns\n",
      "geometry_columns\n",
      "spatial_ref_sys\n",
      "planet_osm_roads\n",
      "planet_osm_point\n",
      "planet_osm_polygon\n",
      "planet_osm_line\n"
     ]
    }
   ],
   "source": [
    "# Create SQLAlchemy Engine\n",
    "engine = create_engine(db_connection_url)\n",
    "\n",
    "# Open a connection\n",
    "with engine.connect() as connection:\n",
    "\n",
    "    # Execute the query\n",
    "    result = connection.execute(text(\"\"\"SELECT table_name\n",
    "                                        FROM information_schema.tables\n",
    "                                        WHERE table_schema = 'public';\"\"\"))\n",
    "    \n",
    "    # Fetch and print the results\n",
    "    for row in result:\n",
    "        print(row[0])\n",
    "\n",
    "# Dispose the engine\n",
    "engine.dispose()"
   ]
  },
  {
   "cell_type": "markdown",
   "metadata": {},
   "source": [
    "## Show columns and data types of a selected table"
   ]
  },
  {
   "cell_type": "code",
   "execution_count": 9,
   "metadata": {},
   "outputs": [
    {
     "data": {
      "text/html": [
       "<div>\n",
       "<style scoped>\n",
       "    .dataframe tbody tr th:only-of-type {\n",
       "        vertical-align: middle;\n",
       "    }\n",
       "\n",
       "    .dataframe tbody tr th {\n",
       "        vertical-align: top;\n",
       "    }\n",
       "\n",
       "    .dataframe thead th {\n",
       "        text-align: right;\n",
       "    }\n",
       "</style>\n",
       "<table border=\"1\" class=\"dataframe\">\n",
       "  <thead>\n",
       "    <tr style=\"text-align: right;\">\n",
       "      <th></th>\n",
       "      <th>column_name</th>\n",
       "      <th>data_type</th>\n",
       "    </tr>\n",
       "  </thead>\n",
       "  <tbody>\n",
       "    <tr>\n",
       "      <th>0</th>\n",
       "      <td>osm_id</td>\n",
       "      <td>bigint</td>\n",
       "    </tr>\n",
       "    <tr>\n",
       "      <th>1</th>\n",
       "      <td>access</td>\n",
       "      <td>text</td>\n",
       "    </tr>\n",
       "    <tr>\n",
       "      <th>2</th>\n",
       "      <td>addr:housename</td>\n",
       "      <td>text</td>\n",
       "    </tr>\n",
       "    <tr>\n",
       "      <th>3</th>\n",
       "      <td>addr:street</td>\n",
       "      <td>text</td>\n",
       "    </tr>\n",
       "    <tr>\n",
       "      <th>4</th>\n",
       "      <td>addr:housenumber</td>\n",
       "      <td>text</td>\n",
       "    </tr>\n",
       "    <tr>\n",
       "      <th>...</th>\n",
       "      <td>...</td>\n",
       "      <td>...</td>\n",
       "    </tr>\n",
       "    <tr>\n",
       "      <th>68</th>\n",
       "      <td>width</td>\n",
       "      <td>text</td>\n",
       "    </tr>\n",
       "    <tr>\n",
       "      <th>69</th>\n",
       "      <td>wood</td>\n",
       "      <td>text</td>\n",
       "    </tr>\n",
       "    <tr>\n",
       "      <th>70</th>\n",
       "      <td>z_order</td>\n",
       "      <td>integer</td>\n",
       "    </tr>\n",
       "    <tr>\n",
       "      <th>71</th>\n",
       "      <td>way_area</td>\n",
       "      <td>real</td>\n",
       "    </tr>\n",
       "    <tr>\n",
       "      <th>72</th>\n",
       "      <td>way</td>\n",
       "      <td>USER-DEFINED</td>\n",
       "    </tr>\n",
       "  </tbody>\n",
       "</table>\n",
       "<p>73 rows × 2 columns</p>\n",
       "</div>"
      ],
      "text/plain": [
       "         column_name     data_type\n",
       "0             osm_id        bigint\n",
       "1             access          text\n",
       "2     addr:housename          text\n",
       "3        addr:street          text\n",
       "4   addr:housenumber          text\n",
       "..               ...           ...\n",
       "68             width          text\n",
       "69              wood          text\n",
       "70           z_order       integer\n",
       "71          way_area          real\n",
       "72               way  USER-DEFINED\n",
       "\n",
       "[73 rows x 2 columns]"
      ]
     },
     "execution_count": 9,
     "metadata": {},
     "output_type": "execute_result"
    }
   ],
   "source": [
    "# Create SQLAlchemy Engine\n",
    "engine = create_engine(db_connection_url)\n",
    "\n",
    "# Specify your table name\n",
    "table_name = 'planet_osm_polygon'\n",
    "\n",
    "# Query to get column information\n",
    "query = f\"\"\"SELECT column_name, data_type \n",
    "        FROM information_schema.columns \n",
    "        WHERE table_name = '{table_name}'\"\"\"\n",
    "\n",
    "# Execute the query and read the result into a DataFrame\n",
    "df = pd.read_sql(query, engine)\n",
    "\n",
    "# Dispose the engine\n",
    "engine.dispose()\n",
    "\n",
    "# Print the DataFrame\n",
    "df"
   ]
  },
  {
   "cell_type": "markdown",
   "metadata": {},
   "source": [
    "## Query: Select buildings for which the full address is available in defined zip code areas"
   ]
  },
  {
   "cell_type": "code",
   "execution_count": null,
   "metadata": {},
   "outputs": [],
   "source": [
    "# Create SQLAlchemy Engine\n",
    "engine = create_engine(db_connection_url)\n",
    "\n",
    "# Define SQL query \n",
    "sql = \"\"\"SELECT\n",
    "                p.osm_id,\n",
    "                p.\"addr:street\",\n",
    "                p.\"addr:housenumber\",\n",
    "                p.\"addr:city\",\n",
    "                p.\"addr:postcode\",\n",
    "                p.building,\n",
    "                st_transform(p.way, 4326) AS geom\n",
    "        FROM\n",
    "                public.planet_osm_polygon AS p\n",
    "        WHERE\n",
    "                p.\"addr:street\" IS NOT NULL\n",
    "                AND p.\"addr:housenumber\" IS NOT NULL\n",
    "                AND p.\"addr:city\" IS NOT NULL\n",
    "                AND p.\"addr:postcode\" IN ('8001', '8002')\"\"\"\n",
    "\n",
    "# Query the database and store the result in a GeoDataFrame\n",
    "gdf_buildings = gpd.GeoDataFrame.from_postgis(sql, engine)\n",
    "\n",
    "# Dispose the engine\n",
    "engine.dispose()\n",
    "\n",
    "# Print the GeoDataFrame\n",
    "gdf_buildings\n"
   ]
  },
  {
   "cell_type": "markdown",
   "metadata": {},
   "source": [
    "## Show selected features on map\n",
    "\n",
    "<span\">Note the popup field in the map, which has been added to provide additional information about buildings.</span>\n",
    "\n",
    "<span\">Example of alternative background maps (maptiles) are:</span>\n",
    "- <span\">EsriWorldImagery</span>\n",
    "- <span\">EsriWorldTopoMap</span>\n",
    "- <span\">EsriWorldGrayCanvas</span>\n",
    "- <span\">CartoDBDarkMatter</span>\n",
    "- <span\">CartoDBPositron</span>\n"
   ]
  },
  {
   "cell_type": "code",
   "execution_count": null,
   "metadata": {},
   "outputs": [],
   "source": [
    "# Ensure the GeoDataFrame has the correct projection (EPSG:4326)\n",
    "if gdf_buildings.crs is None:\n",
    "    gdf_buildings.set_crs(epsg=4326, inplace=True)\n",
    "else:\n",
    "    pass\n",
    "\n",
    "# Calculate the mean longitude and latitude for the map center\n",
    "centroids = gdf_buildings.geometry.centroid\n",
    "lon = centroids.x.mean()\n",
    "lat = centroids.y.mean()\n",
    "\n",
    "# Initialize the map\n",
    "m = folium.Map(location=[lat, lon], \n",
    "               zoom_start=15,\n",
    "               tiles='EsriWorldImagery')\n",
    "\n",
    "# Map settings\n",
    "folium.GeoJson(\n",
    "    gdf_buildings,\n",
    "    name='geojson',\n",
    "    weight=0.5,\n",
    "    fill_color='greenyellow',\n",
    "    fillOpacity=0.8,\n",
    "    popup=folium.GeoJsonPopup(fields=['addr:street',\n",
    "                                      'addr:housenumber',\n",
    "                                      'addr:city',\n",
    "                                      'addr:postcode',\n",
    "                                      'building'])\n",
    ").add_to(m)\n",
    "\n",
    "folium.LayerControl().add_to(m)\n",
    "\n",
    "# Save map as HTML\n",
    "m.save('MAPS/map_buildings.html')\n"
   ]
  },
  {
   "cell_type": "markdown",
   "metadata": {},
   "source": [
    "## Query: Select coffee stores"
   ]
  },
  {
   "cell_type": "code",
   "execution_count": null,
   "metadata": {},
   "outputs": [],
   "source": [
    "# Create SQLAlchemy Engine\n",
    "engine = create_engine(db_connection_url)  \n",
    "\n",
    "# Define SQL query\n",
    "sql = \"\"\"SELECT\n",
    "            h.osm_id,\n",
    "            h.shop,\n",
    "            h.name,\n",
    "            ST_Transform(h.way, 4326) AS geom\n",
    "        FROM planet_osm_point h\n",
    "        WHERE h.shop = 'coffee';\"\"\"\n",
    "\n",
    "# Query the database and store the result in a GeoDataFrame\n",
    "gdf_coffee_stores = gpd.GeoDataFrame.from_postgis(sql, engine)\n",
    "\n",
    "# Dispose the engine\n",
    "engine.dispose()\n",
    "\n",
    "# Print the GeoDataFrame\n",
    "gdf_coffee_stores.head(10)\n"
   ]
  },
  {
   "cell_type": "markdown",
   "metadata": {},
   "source": [
    "## Show selected features on map"
   ]
  },
  {
   "cell_type": "code",
   "execution_count": null,
   "metadata": {},
   "outputs": [],
   "source": [
    "# Ensure the GeoDataFrame has the correct projection (EPSG:4326)\n",
    "if gdf_coffee_stores.crs is None:\n",
    "    gdf_coffee_stores.set_crs(epsg=4326, inplace=True)\n",
    "else:\n",
    "    pass\n",
    "\n",
    "# Calculate the mean longitude and latitude for the map center\n",
    "centroids = gdf_coffee_stores.geometry.centroid\n",
    "lon = centroids.x.mean()\n",
    "lat = centroids.y.mean()\n",
    "\n",
    "# Initialize the map\n",
    "m = folium.Map(location=[lat, lon], \n",
    "               zoom_start=11, \n",
    "               tiles='EsriWorldTopoMap')\n",
    "\n",
    "# Map settings\n",
    "folium.GeoJson(\n",
    "    gdf_coffee_stores,\n",
    "    name='map',\n",
    "    popup=folium.GeoJsonPopup(fields=['name', 'shop'])\n",
    ").add_to(m)\n",
    "\n",
    "folium.LayerControl().add_to(m)\n",
    "\n",
    "# Save map as HTML\n",
    "m.save('MAPS/map_coffee_stores.html')\n"
   ]
  },
  {
   "cell_type": "markdown",
   "metadata": {},
   "source": [
    "## Query: Select all supermarkets in a distance of 1000m around the central station in the city of Winterthur.\n",
    "\n",
    "<span>Note:</span>\n",
    "\n",
    "<span>For each supermarket, the distance to the central station in meters is calculated and stored as new column 'distance_meters'.</span>\n",
    "\n",
    "<span>In addition, a popup field was added to the map, allowing users to view detailed information about each selected feature when they click on it.</span>\n",
    "\n",
    "<span>The WGS84 (World Geodetic System 1984) coordinates in ST_MakePoint(LON, LAT) were derived from: https://tools.retorte.ch/map.</span>\n"
   ]
  },
  {
   "cell_type": "code",
   "execution_count": null,
   "metadata": {},
   "outputs": [],
   "source": [
    "# Create SQLAlchemy Engine\n",
    "engine = create_engine(db_connection_url)  \n",
    "\n",
    "# Define SQL query\n",
    "sql = \"\"\"SELECT\n",
    "            p.osm_id,\n",
    "            p.shop,\n",
    "            p.name,\n",
    "            ST_Distance(\n",
    "                ST_Transform(p.way, 4326)::geography,\n",
    "                -- Central station coordinates\n",
    "                ST_SetSRID(ST_MakePoint(8.72397, 47.50031), 4326)::geography\n",
    "            ) AS distance_meters,\n",
    "            ST_TRANSFORM(p.way, 4326) AS geom\n",
    "        FROM\n",
    "            planet_osm_point AS p\n",
    "        WHERE\n",
    "            p.shop = 'supermarket'\n",
    "            AND ST_DWithin(\n",
    "                ST_Transform(p.way, 4326)::geography,\n",
    "                -- Central station coordinates\n",
    "                ST_SetSRID(ST_MakePoint(8.72397, 47.50031), 4326)::geography,\n",
    "                1000\n",
    "            )\n",
    "        ORDER BY distance_meters;\"\"\"\n",
    "\n",
    "# Query the database and store the result in a GeoDataFrame\n",
    "gdf_supermarkets = gpd.GeoDataFrame.from_postgis(sql, engine)\n",
    "\n",
    "# Dispose the engine\n",
    "engine.dispose()\n",
    "\n",
    "# Print the GeoDataFrame\n",
    "gdf_supermarkets.head(10)\n"
   ]
  },
  {
   "cell_type": "markdown",
   "metadata": {},
   "source": [
    "## Show selected features on map"
   ]
  },
  {
   "cell_type": "code",
   "execution_count": null,
   "metadata": {},
   "outputs": [],
   "source": [
    "# Ensure the GeoDataFrame has the correct projection (EPSG:4326)\n",
    "if gdf_supermarkets.crs is None:\n",
    "    gdf_supermarkets.set_crs(epsg=4326, inplace=True)\n",
    "else:\n",
    "    pass\n",
    "\n",
    "# Calculate the mean longitude and latitude for the map center\n",
    "centroids = gdf_supermarkets.geometry.centroid\n",
    "lon = centroids.x.mean()\n",
    "lat = centroids.y.mean()\n",
    "\n",
    "# Initialize the map\n",
    "m = folium.Map(location=[lat, lon], \n",
    "               zoom_start=16, \n",
    "               tiles='ESRIWorldImagery')\n",
    "\n",
    "# Map settings\n",
    "folium.GeoJson(\n",
    "    gdf_supermarkets,\n",
    "    name='map',\n",
    "    popup=folium.GeoJsonPopup(fields=['name', 'distance_meters'])\n",
    ").add_to(m)\n",
    "\n",
    "folium.LayerControl().add_to(m)\n",
    "\n",
    "# Save map as HTML\n",
    "m.save('MAPS/map_supermarkets.html')\n"
   ]
  },
  {
   "cell_type": "markdown",
   "metadata": {},
   "source": [
    "## Query: Select all roads classified as 'motorway' and create a 5000m buffer around these roads."
   ]
  },
  {
   "cell_type": "code",
   "execution_count": null,
   "metadata": {},
   "outputs": [],
   "source": [
    "# Create SQLAlchemy Engine\n",
    "engine = create_engine(db_connection_url)\n",
    "\n",
    "# Define SQL query (major roads)\n",
    "sql = \"\"\"-- Create buffer around major roads\n",
    "        SELECT \n",
    "            1 as group_id,\n",
    "            ST_TRANSFORM(ST_UNION(ST_Buffer(p.way::geometry, 2000)), 4326) AS geom\n",
    "        FROM public.planet_osm_roads AS p\n",
    "        WHERE\n",
    "            highway = 'motorway';\"\"\"\n",
    "\n",
    "# Query the database and store the result in a GeoDataFrame\n",
    "gdf_roads = gpd.GeoDataFrame.from_postgis(sql, engine, geom_col='geom')\n",
    "\n",
    "# Dispose the engine\n",
    "engine.dispose()\n",
    "\n",
    "# Print the GeoDataFrame\n",
    "gdf_roads"
   ]
  },
  {
   "cell_type": "markdown",
   "metadata": {},
   "source": [
    "## Show selected features on map"
   ]
  },
  {
   "cell_type": "code",
   "execution_count": null,
   "metadata": {},
   "outputs": [],
   "source": [
    "# Ensure the GeoDataFrame has the correct projection (EPSG:4326)\n",
    "if gdf_roads.crs is None:\n",
    "    gdf_roads.set_crs(epsg=4326, inplace=True)\n",
    "else:\n",
    "    pass\n",
    "\n",
    "# Calculate the mean longitude and latitude for the map center\n",
    "centroids = gdf_roads.geometry.centroid\n",
    "lon = centroids.x.mean()\n",
    "lat = centroids.y.mean()\n",
    "\n",
    "# Initialize the map\n",
    "m = folium.Map(location=[lat, lon], \n",
    "               zoom_start=11, \n",
    "               tiles='EsriWorldTopoMap')\n",
    "\n",
    "# Map settings\n",
    "folium.GeoJson(\n",
    "    gdf_roads,\n",
    "    name='map'\n",
    ").add_to(m)\n",
    "\n",
    "folium.LayerControl().add_to(m)\n",
    "\n",
    "# Save map as HTML\n",
    "m.save('MAPS/map_roads.html')\n"
   ]
  },
  {
   "cell_type": "markdown",
   "metadata": {},
   "source": [
    "### Jupyter notebook --footer info-- (please always provide this at the end of each notebook)"
   ]
  },
  {
   "cell_type": "code",
   "execution_count": null,
   "metadata": {},
   "outputs": [],
   "source": [
    "import os\n",
    "import platform\n",
    "import socket\n",
    "from platform import python_version\n",
    "from datetime import datetime\n",
    "\n",
    "print('-----------------------------------')\n",
    "print(os.name.upper())\n",
    "print(platform.system(), '|', platform.release())\n",
    "print('Datetime:', datetime.now().strftime(\"%Y-%m-%d %H:%M:%S\"))\n",
    "print('Python Version:', python_version())\n",
    "print('-----------------------------------')"
   ]
  }
 ],
 "metadata": {
  "kernelspec": {
   "display_name": "Python 3",
   "language": "python",
   "name": "python3"
  },
  "language_info": {
   "codemirror_mode": {
    "name": "ipython",
    "version": 3
   },
   "file_extension": ".py",
   "mimetype": "text/x-python",
   "name": "python",
   "nbconvert_exporter": "python",
   "pygments_lexer": "ipython3",
   "version": "3.12.1"
  }
 },
 "nbformat": 4,
 "nbformat_minor": 2
}
